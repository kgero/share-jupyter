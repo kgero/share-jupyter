{
 "cells": [
  {
   "cell_type": "markdown",
   "metadata": {},
   "source": [
    "# Test how well you can identify sentence styles!"
   ]
  },
  {
   "cell_type": "code",
   "execution_count": 1,
   "metadata": {},
   "outputs": [],
   "source": [
    "import json\n",
    "import random\n",
    "\n",
    "from ipywidgets import widgets"
   ]
  },
  {
   "cell_type": "code",
   "execution_count": 2,
   "metadata": {},
   "outputs": [
    {
     "data": {
      "text/plain": [
       "{'reference_string': 'They welcome it, because they have arranged to share in the savings from the usof machines to do stevedoring work.',\n",
       " 'sequence': {'tokens': ['they',\n",
       "   'welcome',\n",
       "   'it',\n",
       "   ',',\n",
       "   'because',\n",
       "   'they',\n",
       "   'have',\n",
       "   'arranged',\n",
       "   'to',\n",
       "   'share',\n",
       "   'in',\n",
       "   'the',\n",
       "   'savings',\n",
       "   'from',\n",
       "   'the',\n",
       "   'usof',\n",
       "   'machines',\n",
       "   'to',\n",
       "   'do',\n",
       "   'stevedoring',\n",
       "   'work',\n",
       "   '.']},\n",
       " 'controls': {'simplePreposition': 3,\n",
       "  'positionSimplePreposition': 1,\n",
       "  'complexPreposition': 0,\n",
       "  'positionComplexPreposition': 0,\n",
       "  'allPreposition': 4,\n",
       "  'firstPerson': 0,\n",
       "  'secondPerson': 0,\n",
       "  'thirdNeutralPerson': 3,\n",
       "  'thirdFemalePerson': 0,\n",
       "  'thirdMalePerson': 0,\n",
       "  'thirdPerson': 3,\n",
       "  'anyPerson': 3,\n",
       "  'punctuation': 1,\n",
       "  'length': 20,\n",
       "  'determiner': 2,\n",
       "  'conjunction': 0,\n",
       "  'genre': 'scifi'}}"
      ]
     },
     "execution_count": 2,
     "metadata": {},
     "output_type": "execute_result"
    }
   ],
   "source": [
    "data = {'scifi': [], 'philosophy': [], 'gothic': []}\n",
    "with open('more-even/TARGET_20.jsonl', 'r') as fle:\n",
    "    for line in fle:\n",
    "        item = json.loads(line.strip('\\n'))\n",
    "        data[item['controls']['genre']].append(item)\n",
    "\n",
    "data['scifi'][0]"
   ]
  },
  {
   "cell_type": "code",
   "execution_count": 3,
   "metadata": {},
   "outputs": [],
   "source": [
    "genres = ['scifi', 'philosophy', 'gothic']\n",
    "def make_question(data):\n",
    "    genre = random.choice(genres)\n",
    "    item = random.choice(data[genre])\n",
    "    text = item['reference_string']\n",
    "    r = widgets.RadioButtons(\n",
    "        options=genres+[\"i don't know\"],\n",
    "        value=\"i don't know\",\n",
    "        description='Pizza topping:',\n",
    "        disabled=False\n",
    "    )\n",
    "    t = widgets.HTML(value=text)\n",
    "    return t, r, genre"
   ]
  },
  {
   "cell_type": "markdown",
   "metadata": {},
   "source": [
    "### This is where you can set how many questions you want to do"
   ]
  },
  {
   "cell_type": "code",
   "execution_count": 5,
   "metadata": {},
   "outputs": [],
   "source": [
    "num_questions = 10"
   ]
  },
  {
   "cell_type": "markdown",
   "metadata": {},
   "source": [
    "### Running this cell will produce a test. \n",
    "### After you take the test, run THE NEXT CELL to get the answers. \n",
    "### If you accidentally run this cell again, it will produce a new test.\n",
    "### Every time you run this cell, it will produce a new test with new, random sentences selected."
   ]
  },
  {
   "cell_type": "code",
   "execution_count": 6,
   "metadata": {},
   "outputs": [
    {
     "data": {
      "application/vnd.jupyter.widget-view+json": {
       "model_id": "7e8fefa49458406a8ce0a604412d0b8f",
       "version_major": 2,
       "version_minor": 0
      },
      "text/plain": [
       "HTML(value='She only said, \"I hope it may end well.\"')"
      ]
     },
     "metadata": {},
     "output_type": "display_data"
    },
    {
     "data": {
      "application/vnd.jupyter.widget-view+json": {
       "model_id": "ad11d302d85e43b8b9aa119d9102aa68",
       "version_major": 2,
       "version_minor": 0
      },
      "text/plain": [
       "RadioButtons(description='Pizza topping:', index=3, options=('scifi', 'philosophy', 'gothic', \"i don't know\"),…"
      ]
     },
     "metadata": {},
     "output_type": "display_data"
    },
    {
     "data": {
      "application/vnd.jupyter.widget-view+json": {
       "model_id": "24a8f81bcfa6419f82130e991502c5c8",
       "version_major": 2,
       "version_minor": 0
      },
      "text/plain": [
       "HTML(value='She ended with a deep sigh; and Godolphin, wildly starting from his seat, said--')"
      ]
     },
     "metadata": {},
     "output_type": "display_data"
    },
    {
     "data": {
      "application/vnd.jupyter.widget-view+json": {
       "model_id": "463174022bf64420b9cf74eec2ed2a38",
       "version_major": 2,
       "version_minor": 0
      },
      "text/plain": [
       "RadioButtons(description='Pizza topping:', index=3, options=('scifi', 'philosophy', 'gothic', \"i don't know\"),…"
      ]
     },
     "metadata": {},
     "output_type": "display_data"
    },
    {
     "data": {
      "application/vnd.jupyter.widget-view+json": {
       "model_id": "5a68e6cafded4e2fb310505eacf8a730",
       "version_major": 2,
       "version_minor": 0
      },
      "text/plain": [
       "HTML(value='\"Forty!  Aye, fifty, for what I care.  ')"
      ]
     },
     "metadata": {},
     "output_type": "display_data"
    },
    {
     "data": {
      "application/vnd.jupyter.widget-view+json": {
       "model_id": "3e871bd2130b46ff842c59267ccb998b",
       "version_major": 2,
       "version_minor": 0
      },
      "text/plain": [
       "RadioButtons(description='Pizza topping:', index=3, options=('scifi', 'philosophy', 'gothic', \"i don't know\"),…"
      ]
     },
     "metadata": {},
     "output_type": "display_data"
    },
    {
     "data": {
      "application/vnd.jupyter.widget-view+json": {
       "model_id": "6a341bdf223d40c5bfd8072299d76c90",
       "version_major": 2,
       "version_minor": 0
      },
      "text/plain": [
       "HTML(value='The burden of proof accordingly rests upon the opponent.')"
      ]
     },
     "metadata": {},
     "output_type": "display_data"
    },
    {
     "data": {
      "application/vnd.jupyter.widget-view+json": {
       "model_id": "b27a3735c703447e880b38fe6f6daad8",
       "version_major": 2,
       "version_minor": 0
      },
      "text/plain": [
       "RadioButtons(description='Pizza topping:', index=3, options=('scifi', 'philosophy', 'gothic', \"i don't know\"),…"
      ]
     },
     "metadata": {},
     "output_type": "display_data"
    },
    {
     "data": {
      "application/vnd.jupyter.widget-view+json": {
       "model_id": "1cebee4ae7dd4e1a9e0ae7279856cb68",
       "version_major": 2,
       "version_minor": 0
      },
      "text/plain": [
       "HTML(value='It can not explain how the notion of a physical order, as distinguished from a subjectively biogra…"
      ]
     },
     "metadata": {},
     "output_type": "display_data"
    },
    {
     "data": {
      "application/vnd.jupyter.widget-view+json": {
       "model_id": "fbd4d19ef0ce41c6a14046dbe2ddf3c2",
       "version_major": 2,
       "version_minor": 0
      },
      "text/plain": [
       "RadioButtons(description='Pizza topping:', index=3, options=('scifi', 'philosophy', 'gothic', \"i don't know\"),…"
      ]
     },
     "metadata": {},
     "output_type": "display_data"
    },
    {
     "data": {
      "application/vnd.jupyter.widget-view+json": {
       "model_id": "a44efa5d41d3452b8d2d2748713655bd",
       "version_major": 2,
       "version_minor": 0
      },
      "text/plain": [
       "HTML(value='That this principle of equality, (unlike the   principle of freedom), does not apply to our relati…"
      ]
     },
     "metadata": {},
     "output_type": "display_data"
    },
    {
     "data": {
      "application/vnd.jupyter.widget-view+json": {
       "model_id": "f3b60065c7c746df80cbfe070693a129",
       "version_major": 2,
       "version_minor": 0
      },
      "text/plain": [
       "RadioButtons(description='Pizza topping:', index=3, options=('scifi', 'philosophy', 'gothic', \"i don't know\"),…"
      ]
     },
     "metadata": {},
     "output_type": "display_data"
    },
    {
     "data": {
      "application/vnd.jupyter.widget-view+json": {
       "model_id": "8adcb0673f444b56af6bef1f82a6f6f7",
       "version_major": 2,
       "version_minor": 0
      },
      "text/plain": [
       "HTML(value='And here the shouting was very loud.')"
      ]
     },
     "metadata": {},
     "output_type": "display_data"
    },
    {
     "data": {
      "application/vnd.jupyter.widget-view+json": {
       "model_id": "fee3c6c398e44dc9a61e73f27c350b10",
       "version_major": 2,
       "version_minor": 0
      },
      "text/plain": [
       "RadioButtons(description='Pizza topping:', index=3, options=('scifi', 'philosophy', 'gothic', \"i don't know\"),…"
      ]
     },
     "metadata": {},
     "output_type": "display_data"
    },
    {
     "data": {
      "application/vnd.jupyter.widget-view+json": {
       "model_id": "5faa244230224c3aafc9f4317718c888",
       "version_major": 2,
       "version_minor": 0
      },
      "text/plain": [
       "HTML(value='There is abundance of divine mercy, but no divine vengeance.')"
      ]
     },
     "metadata": {},
     "output_type": "display_data"
    },
    {
     "data": {
      "application/vnd.jupyter.widget-view+json": {
       "model_id": "adf2dd89addb46a1b85515fbdcac7d01",
       "version_major": 2,
       "version_minor": 0
      },
      "text/plain": [
       "RadioButtons(description='Pizza topping:', index=3, options=('scifi', 'philosophy', 'gothic', \"i don't know\"),…"
      ]
     },
     "metadata": {},
     "output_type": "display_data"
    },
    {
     "data": {
      "application/vnd.jupyter.widget-view+json": {
       "model_id": "b50f96f9c85d436ea4982116cdf5e453",
       "version_major": 2,
       "version_minor": 0
      },
      "text/plain": [
       "HTML(value='\"Oh, go on home and tend to your castles!\"')"
      ]
     },
     "metadata": {},
     "output_type": "display_data"
    },
    {
     "data": {
      "application/vnd.jupyter.widget-view+json": {
       "model_id": "91e3645039fe43848555a8f2ccfd663c",
       "version_major": 2,
       "version_minor": 0
      },
      "text/plain": [
       "RadioButtons(description='Pizza topping:', index=3, options=('scifi', 'philosophy', 'gothic', \"i don't know\"),…"
      ]
     },
     "metadata": {},
     "output_type": "display_data"
    },
    {
     "data": {
      "application/vnd.jupyter.widget-view+json": {
       "model_id": "e5d993ad460f47f8a811b5ec01eb40e0",
       "version_major": 2,
       "version_minor": 0
      },
      "text/plain": [
       "HTML(value='Behind the work of those others was a background of overflowing mental temptations.  ')"
      ]
     },
     "metadata": {},
     "output_type": "display_data"
    },
    {
     "data": {
      "application/vnd.jupyter.widget-view+json": {
       "model_id": "1b7f7d0c981e437bafa54b2fbada57da",
       "version_major": 2,
       "version_minor": 0
      },
      "text/plain": [
       "RadioButtons(description='Pizza topping:', index=3, options=('scifi', 'philosophy', 'gothic', \"i don't know\"),…"
      ]
     },
     "metadata": {},
     "output_type": "display_data"
    }
   ],
   "source": [
    "questions = []\n",
    "for i in range(num_questions):\n",
    "    questions.append(make_question(data))\n",
    "\n",
    "for t, r, genre in questions:\n",
    "    display(t)\n",
    "    display(r)"
   ]
  },
  {
   "cell_type": "code",
   "execution_count": 9,
   "metadata": {},
   "outputs": [
    {
     "data": {
      "application/vnd.jupyter.widget-view+json": {
       "model_id": "04dc0d0b3668423bbb7c2f0147bf5eea",
       "version_major": 2,
       "version_minor": 0
      },
      "text/plain": [
       "HTML(value='<h2>you got 8 of 10 correct.</h2>')"
      ]
     },
     "metadata": {},
     "output_type": "display_data"
    },
    {
     "data": {
      "application/vnd.jupyter.widget-view+json": {
       "model_id": "7e8fefa49458406a8ce0a604412d0b8f",
       "version_major": 2,
       "version_minor": 0
      },
      "text/plain": [
       "HTML(value='She only said, \"I hope it may end well.\"')"
      ]
     },
     "metadata": {},
     "output_type": "display_data"
    },
    {
     "data": {
      "application/vnd.jupyter.widget-view+json": {
       "model_id": "abd0d22471ae44588f9a9aa7b892ffec",
       "version_major": 2,
       "version_minor": 0
      },
      "text/plain": [
       "HTML(value='[<b>wrong</b>] -- true genre: <b>gothic</b>, your selection: <b>scifi</b>')"
      ]
     },
     "metadata": {},
     "output_type": "display_data"
    },
    {
     "data": {
      "application/vnd.jupyter.widget-view+json": {
       "model_id": "24a8f81bcfa6419f82130e991502c5c8",
       "version_major": 2,
       "version_minor": 0
      },
      "text/plain": [
       "HTML(value='She ended with a deep sigh; and Godolphin, wildly starting from his seat, said--')"
      ]
     },
     "metadata": {},
     "output_type": "display_data"
    },
    {
     "data": {
      "application/vnd.jupyter.widget-view+json": {
       "model_id": "9df8a303452142f18b7bf81472b31bec",
       "version_major": 2,
       "version_minor": 0
      },
      "text/plain": [
       "HTML(value='[<b>correct</b>] -- true genre: <b>gothic</b>, your selection: <b>gothic</b>')"
      ]
     },
     "metadata": {},
     "output_type": "display_data"
    },
    {
     "data": {
      "application/vnd.jupyter.widget-view+json": {
       "model_id": "5a68e6cafded4e2fb310505eacf8a730",
       "version_major": 2,
       "version_minor": 0
      },
      "text/plain": [
       "HTML(value='\"Forty!  Aye, fifty, for what I care.  ')"
      ]
     },
     "metadata": {},
     "output_type": "display_data"
    },
    {
     "data": {
      "application/vnd.jupyter.widget-view+json": {
       "model_id": "1cf473dd4556496e9f4fa248a997e86b",
       "version_major": 2,
       "version_minor": 0
      },
      "text/plain": [
       "HTML(value='[<b>correct</b>] -- true genre: <b>gothic</b>, your selection: <b>gothic</b>')"
      ]
     },
     "metadata": {},
     "output_type": "display_data"
    },
    {
     "data": {
      "application/vnd.jupyter.widget-view+json": {
       "model_id": "6a341bdf223d40c5bfd8072299d76c90",
       "version_major": 2,
       "version_minor": 0
      },
      "text/plain": [
       "HTML(value='The burden of proof accordingly rests upon the opponent.')"
      ]
     },
     "metadata": {},
     "output_type": "display_data"
    },
    {
     "data": {
      "application/vnd.jupyter.widget-view+json": {
       "model_id": "10fa2d0a6b1a4369a1054e92be5c4e5a",
       "version_major": 2,
       "version_minor": 0
      },
      "text/plain": [
       "HTML(value='[<b>correct</b>] -- true genre: <b>philosophy</b>, your selection: <b>philosophy</b>')"
      ]
     },
     "metadata": {},
     "output_type": "display_data"
    },
    {
     "data": {
      "application/vnd.jupyter.widget-view+json": {
       "model_id": "1cebee4ae7dd4e1a9e0ae7279856cb68",
       "version_major": 2,
       "version_minor": 0
      },
      "text/plain": [
       "HTML(value='It can not explain how the notion of a physical order, as distinguished from a subjectively biogra…"
      ]
     },
     "metadata": {},
     "output_type": "display_data"
    },
    {
     "data": {
      "application/vnd.jupyter.widget-view+json": {
       "model_id": "1d5ac87eacf3488fa5771791be8408d8",
       "version_major": 2,
       "version_minor": 0
      },
      "text/plain": [
       "HTML(value='[<b>correct</b>] -- true genre: <b>philosophy</b>, your selection: <b>philosophy</b>')"
      ]
     },
     "metadata": {},
     "output_type": "display_data"
    },
    {
     "data": {
      "application/vnd.jupyter.widget-view+json": {
       "model_id": "a44efa5d41d3452b8d2d2748713655bd",
       "version_major": 2,
       "version_minor": 0
      },
      "text/plain": [
       "HTML(value='That this principle of equality, (unlike the   principle of freedom), does not apply to our relati…"
      ]
     },
     "metadata": {},
     "output_type": "display_data"
    },
    {
     "data": {
      "application/vnd.jupyter.widget-view+json": {
       "model_id": "16e58748ad9348dd84fcb540cb8ca3d7",
       "version_major": 2,
       "version_minor": 0
      },
      "text/plain": [
       "HTML(value='[<b>correct</b>] -- true genre: <b>philosophy</b>, your selection: <b>philosophy</b>')"
      ]
     },
     "metadata": {},
     "output_type": "display_data"
    },
    {
     "data": {
      "application/vnd.jupyter.widget-view+json": {
       "model_id": "8adcb0673f444b56af6bef1f82a6f6f7",
       "version_major": 2,
       "version_minor": 0
      },
      "text/plain": [
       "HTML(value='And here the shouting was very loud.')"
      ]
     },
     "metadata": {},
     "output_type": "display_data"
    },
    {
     "data": {
      "application/vnd.jupyter.widget-view+json": {
       "model_id": "34468438dcdf41c180e31d8f4cbb04a5",
       "version_major": 2,
       "version_minor": 0
      },
      "text/plain": [
       "HTML(value='[<b>correct</b>] -- true genre: <b>scifi</b>, your selection: <b>scifi</b>')"
      ]
     },
     "metadata": {},
     "output_type": "display_data"
    },
    {
     "data": {
      "application/vnd.jupyter.widget-view+json": {
       "model_id": "5faa244230224c3aafc9f4317718c888",
       "version_major": 2,
       "version_minor": 0
      },
      "text/plain": [
       "HTML(value='There is abundance of divine mercy, but no divine vengeance.')"
      ]
     },
     "metadata": {},
     "output_type": "display_data"
    },
    {
     "data": {
      "application/vnd.jupyter.widget-view+json": {
       "model_id": "79842a8bf573476494daae78e80efe3f",
       "version_major": 2,
       "version_minor": 0
      },
      "text/plain": [
       "HTML(value='[<b>correct</b>] -- true genre: <b>gothic</b>, your selection: <b>gothic</b>')"
      ]
     },
     "metadata": {},
     "output_type": "display_data"
    },
    {
     "data": {
      "application/vnd.jupyter.widget-view+json": {
       "model_id": "b50f96f9c85d436ea4982116cdf5e453",
       "version_major": 2,
       "version_minor": 0
      },
      "text/plain": [
       "HTML(value='\"Oh, go on home and tend to your castles!\"')"
      ]
     },
     "metadata": {},
     "output_type": "display_data"
    },
    {
     "data": {
      "application/vnd.jupyter.widget-view+json": {
       "model_id": "bb22b351454c4f65ae911bacebaa2e16",
       "version_major": 2,
       "version_minor": 0
      },
      "text/plain": [
       "HTML(value='[<b>wrong</b>] -- true genre: <b>scifi</b>, your selection: <b>gothic</b>')"
      ]
     },
     "metadata": {},
     "output_type": "display_data"
    },
    {
     "data": {
      "application/vnd.jupyter.widget-view+json": {
       "model_id": "e5d993ad460f47f8a811b5ec01eb40e0",
       "version_major": 2,
       "version_minor": 0
      },
      "text/plain": [
       "HTML(value='Behind the work of those others was a background of overflowing mental temptations.  ')"
      ]
     },
     "metadata": {},
     "output_type": "display_data"
    },
    {
     "data": {
      "application/vnd.jupyter.widget-view+json": {
       "model_id": "3b7291a8171b4177a926e34bf0e33bd0",
       "version_major": 2,
       "version_minor": 0
      },
      "text/plain": [
       "HTML(value='[<b>correct</b>] -- true genre: <b>philosophy</b>, your selection: <b>philosophy</b>')"
      ]
     },
     "metadata": {},
     "output_type": "display_data"
    }
   ],
   "source": [
    "score = 0\n",
    "for t, r, genre in questions:\n",
    "    if r.value == genre:\n",
    "        score += 1\n",
    "\n",
    "t = widgets.HTML(value=f\"<h2>you got {score} of {len(questions)} correct.</h2>\")\n",
    "display(t)\n",
    "\n",
    "for t, r, genre in questions:\n",
    "    correct = 'correct' if r.value == genre else 'wrong'\n",
    "    display(t)\n",
    "    t = widgets.HTML(value=f\"[<b>{correct}</b>] -- true genre: <b>{genre}</b>, your selection: <b>{r.value}</b>\")\n",
    "    display(t)"
   ]
  },
  {
   "cell_type": "code",
   "execution_count": null,
   "metadata": {},
   "outputs": [],
   "source": []
  }
 ],
 "metadata": {
  "kernelspec": {
   "display_name": "projectname",
   "language": "python",
   "name": "projectname"
  },
  "language_info": {
   "codemirror_mode": {
    "name": "ipython",
    "version": 3
   },
   "file_extension": ".py",
   "mimetype": "text/x-python",
   "name": "python",
   "nbconvert_exporter": "python",
   "pygments_lexer": "ipython3",
   "version": "3.6.5"
  }
 },
 "nbformat": 4,
 "nbformat_minor": 2
}
