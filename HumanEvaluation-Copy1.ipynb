{
 "cells": [
  {
   "cell_type": "code",
   "execution_count": 1,
   "metadata": {},
   "outputs": [],
   "source": [
    "import json\n",
    "import matplotlib.pyplot as plt\n",
    "import numpy as np\n",
    "import random\n",
    "\n",
    "from ipywidgets import widgets"
   ]
  },
  {
   "cell_type": "code",
   "execution_count": 2,
   "metadata": {},
   "outputs": [
    {
     "data": {
      "text/plain": [
       "{'reference_string': 'The little beasts that nipped at your heels here and thoughtfully eyed your throat.',\n",
       " 'sequence': {'tokens': ['the',\n",
       "   'little',\n",
       "   'beasts',\n",
       "   'that',\n",
       "   'nipped',\n",
       "   'at',\n",
       "   'your',\n",
       "   'heels',\n",
       "   'here',\n",
       "   'and',\n",
       "   'thoughtfully',\n",
       "   'eyed',\n",
       "   'your',\n",
       "   'throat',\n",
       "   '.']},\n",
       " 'controls': {'simplePreposition': 0,\n",
       "  'positionSimplePreposition': 1,\n",
       "  'complexPreposition': 0,\n",
       "  'positionComplexPreposition': 0,\n",
       "  'allPreposition': 1,\n",
       "  'firstPerson': 0,\n",
       "  'secondPerson': 2,\n",
       "  'thirdNeutralPerson': 0,\n",
       "  'thirdFemalePerson': 0,\n",
       "  'thirdMalePerson': 0,\n",
       "  'thirdPerson': 0,\n",
       "  'anyPerson': 2,\n",
       "  'punctuation': 0,\n",
       "  'length': 14,\n",
       "  'determiner': 2,\n",
       "  'conjunction': 1,\n",
       "  'genre': 'scifi'}}"
      ]
     },
     "execution_count": 2,
     "metadata": {},
     "output_type": "execute_result"
    }
   ],
   "source": [
    "data = {'scifi': [], 'philosophy': [], 'gothic': []}\n",
    "with open('more-even/TARGET_20.jsonl', 'r') as fle:\n",
    "    for line in fle:\n",
    "        item = json.loads(line.strip('\\n'))\n",
    "        data[item['controls']['genre']].append(item)\n",
    "# with open('more-even/TARGET_80.jsonl', 'r') as fle:\n",
    "#     for line in fle:\n",
    "#         data.append(json.loads(line.strip('\\n')))\n",
    "data['scifi'][0]"
   ]
  },
  {
   "cell_type": "code",
   "execution_count": null,
   "metadata": {},
   "outputs": [],
   "source": []
  },
  {
   "cell_type": "code",
   "execution_count": 12,
   "metadata": {},
   "outputs": [],
   "source": [
    "genres = ['scifi', 'philosophy', 'gothic']\n",
    "def make_question(data):\n",
    "    genre = random.choice(genres)\n",
    "    item = random.choice(data[genre])\n",
    "    text = item['reference_string']\n",
    "    r = widgets.RadioButtons(\n",
    "        options=genres+[\"i don't know\"],\n",
    "        value=\"i don't know\",\n",
    "        description='Pizza topping:',\n",
    "        disabled=False\n",
    "    )\n",
    "    t = widgets.HTML(value=text)\n",
    "    return t, r, genre"
   ]
  },
  {
   "cell_type": "code",
   "execution_count": 13,
   "metadata": {},
   "outputs": [
    {
     "data": {
      "application/vnd.jupyter.widget-view+json": {
       "model_id": "1866be4ede834bffb437f35dd0bee0e3",
       "version_major": 2,
       "version_minor": 0
      },
      "text/plain": [
       "HTML(value='In the contempt entertained by many modern philosophers for the syllogistic art, it will be seen t…"
      ]
     },
     "metadata": {},
     "output_type": "display_data"
    },
    {
     "data": {
      "application/vnd.jupyter.widget-view+json": {
       "model_id": "1e47a75b9b90483e82fa4313e7e2271c",
       "version_major": 2,
       "version_minor": 0
      },
      "text/plain": [
       "RadioButtons(description='Pizza topping:', index=3, options=('scifi', 'philosophy', 'gothic', \"i don't know\"),…"
      ]
     },
     "metadata": {},
     "output_type": "display_data"
    },
    {
     "data": {
      "application/vnd.jupyter.widget-view+json": {
       "model_id": "7cd2a9e8ae014111b62e63bf43167160",
       "version_major": 2,
       "version_minor": 0
      },
      "text/plain": [
       "HTML(value='She followed Drusilla\\'s gaze and smiled. \"')"
      ]
     },
     "metadata": {},
     "output_type": "display_data"
    },
    {
     "data": {
      "application/vnd.jupyter.widget-view+json": {
       "model_id": "a0ae63114bc54c009b5d4a668bd83c36",
       "version_major": 2,
       "version_minor": 0
      },
      "text/plain": [
       "RadioButtons(description='Pizza topping:', index=3, options=('scifi', 'philosophy', 'gothic', \"i don't know\"),…"
      ]
     },
     "metadata": {},
     "output_type": "display_data"
    },
    {
     "data": {
      "application/vnd.jupyter.widget-view+json": {
       "model_id": "f4d45e340a9343b6b6e331121bc658d5",
       "version_major": 2,
       "version_minor": 0
      },
      "text/plain": [
       "HTML(value='Oh, how these people would themselves like to inflict the expiation, how they thirst to be the han…"
      ]
     },
     "metadata": {},
     "output_type": "display_data"
    },
    {
     "data": {
      "application/vnd.jupyter.widget-view+json": {
       "model_id": "8382336cbf164ea782d185c5d457b880",
       "version_major": 2,
       "version_minor": 0
      },
      "text/plain": [
       "RadioButtons(description='Pizza topping:', index=3, options=('scifi', 'philosophy', 'gothic', \"i don't know\"),…"
      ]
     },
     "metadata": {},
     "output_type": "display_data"
    },
    {
     "data": {
      "application/vnd.jupyter.widget-view+json": {
       "model_id": "8f0e213c1464465186b10d92c702b2c6",
       "version_major": 2,
       "version_minor": 0
      },
      "text/plain": [
       "HTML(value='\"Well spoken,\" said Marchdale; \"and yet I hope that circumstances may occur to prevent such a nece…"
      ]
     },
     "metadata": {},
     "output_type": "display_data"
    },
    {
     "data": {
      "application/vnd.jupyter.widget-view+json": {
       "model_id": "c28adc0706294f19916b9a47b1b42ba5",
       "version_major": 2,
       "version_minor": 0
      },
      "text/plain": [
       "RadioButtons(description='Pizza topping:', index=3, options=('scifi', 'philosophy', 'gothic', \"i don't know\"),…"
      ]
     },
     "metadata": {},
     "output_type": "display_data"
    },
    {
     "data": {
      "application/vnd.jupyter.widget-view+json": {
       "model_id": "983c74cfdc7346c19d656f7244fe6b21",
       "version_major": 2,
       "version_minor": 0
      },
      "text/plain": [
       "HTML(value='\"What is that?\" said Charles.')"
      ]
     },
     "metadata": {},
     "output_type": "display_data"
    },
    {
     "data": {
      "application/vnd.jupyter.widget-view+json": {
       "model_id": "e89dbfbf7168461187ef6511cf180834",
       "version_major": 2,
       "version_minor": 0
      },
      "text/plain": [
       "RadioButtons(description='Pizza topping:', index=3, options=('scifi', 'philosophy', 'gothic', \"i don't know\"),…"
      ]
     },
     "metadata": {},
     "output_type": "display_data"
    }
   ],
   "source": [
    "questions = []\n",
    "for i in range(5):\n",
    "    questions.append(make_question(data))\n",
    "\n",
    "for t, r, genre in questions:\n",
    "    display(t)\n",
    "    display(r)"
   ]
  },
  {
   "cell_type": "code",
   "execution_count": 15,
   "metadata": {},
   "outputs": [
    {
     "data": {
      "application/vnd.jupyter.widget-view+json": {
       "model_id": "b7889a458a9e41db9891e089d8c140ad",
       "version_major": 2,
       "version_minor": 0
      },
      "text/plain": [
       "HTML(value='<h2>you got 4 of 5 correct.</h2>')"
      ]
     },
     "metadata": {},
     "output_type": "display_data"
    },
    {
     "data": {
      "application/vnd.jupyter.widget-view+json": {
       "model_id": "1866be4ede834bffb437f35dd0bee0e3",
       "version_major": 2,
       "version_minor": 0
      },
      "text/plain": [
       "HTML(value='In the contempt entertained by many modern philosophers for the syllogistic art, it will be seen t…"
      ]
     },
     "metadata": {},
     "output_type": "display_data"
    },
    {
     "data": {
      "application/vnd.jupyter.widget-view+json": {
       "model_id": "42414f93871e4346b593ff34c47c97ca",
       "version_major": 2,
       "version_minor": 0
      },
      "text/plain": [
       "HTML(value='<b>correct</b> answer: <b>philosophy</b>, your answer: <b>philosophy</b>')"
      ]
     },
     "metadata": {},
     "output_type": "display_data"
    },
    {
     "data": {
      "application/vnd.jupyter.widget-view+json": {
       "model_id": "7cd2a9e8ae014111b62e63bf43167160",
       "version_major": 2,
       "version_minor": 0
      },
      "text/plain": [
       "HTML(value='She followed Drusilla\\'s gaze and smiled. \"')"
      ]
     },
     "metadata": {},
     "output_type": "display_data"
    },
    {
     "data": {
      "application/vnd.jupyter.widget-view+json": {
       "model_id": "6a6dd7a24b704c828663a6b5ff21018d",
       "version_major": 2,
       "version_minor": 0
      },
      "text/plain": [
       "HTML(value='<b>correct</b> answer: <b>scifi</b>, your answer: <b>scifi</b>')"
      ]
     },
     "metadata": {},
     "output_type": "display_data"
    },
    {
     "data": {
      "application/vnd.jupyter.widget-view+json": {
       "model_id": "f4d45e340a9343b6b6e331121bc658d5",
       "version_major": 2,
       "version_minor": 0
      },
      "text/plain": [
       "HTML(value='Oh, how these people would themselves like to inflict the expiation, how they thirst to be the han…"
      ]
     },
     "metadata": {},
     "output_type": "display_data"
    },
    {
     "data": {
      "application/vnd.jupyter.widget-view+json": {
       "model_id": "3dc6ed4067964750bf54cab5291f393c",
       "version_major": 2,
       "version_minor": 0
      },
      "text/plain": [
       "HTML(value='<b>wrong</b> answer: <b>philosophy</b>, your answer: <b>gothic</b>')"
      ]
     },
     "metadata": {},
     "output_type": "display_data"
    },
    {
     "data": {
      "application/vnd.jupyter.widget-view+json": {
       "model_id": "8f0e213c1464465186b10d92c702b2c6",
       "version_major": 2,
       "version_minor": 0
      },
      "text/plain": [
       "HTML(value='\"Well spoken,\" said Marchdale; \"and yet I hope that circumstances may occur to prevent such a nece…"
      ]
     },
     "metadata": {},
     "output_type": "display_data"
    },
    {
     "data": {
      "application/vnd.jupyter.widget-view+json": {
       "model_id": "187e8e8b09b54abeaf38800fd6e1b248",
       "version_major": 2,
       "version_minor": 0
      },
      "text/plain": [
       "HTML(value='<b>correct</b> answer: <b>gothic</b>, your answer: <b>gothic</b>')"
      ]
     },
     "metadata": {},
     "output_type": "display_data"
    },
    {
     "data": {
      "application/vnd.jupyter.widget-view+json": {
       "model_id": "983c74cfdc7346c19d656f7244fe6b21",
       "version_major": 2,
       "version_minor": 0
      },
      "text/plain": [
       "HTML(value='\"What is that?\" said Charles.')"
      ]
     },
     "metadata": {},
     "output_type": "display_data"
    },
    {
     "data": {
      "application/vnd.jupyter.widget-view+json": {
       "model_id": "e44e9e1f606443dca264e3f5d4a54a28",
       "version_major": 2,
       "version_minor": 0
      },
      "text/plain": [
       "HTML(value='<b>correct</b> answer: <b>gothic</b>, your answer: <b>gothic</b>')"
      ]
     },
     "metadata": {},
     "output_type": "display_data"
    }
   ],
   "source": [
    "score = 0\n",
    "for t, r, genre in questions:\n",
    "    if r.value == genre:\n",
    "        score += 1\n",
    "\n",
    "t = widgets.HTML(value=f\"<h2>you got {score} of {len(questions)} correct.</h2>\")\n",
    "display(t)\n",
    "\n",
    "for t, r, genre in questions:\n",
    "    correct = 'correct' if r.value == genre else 'wrong'\n",
    "    display(t)\n",
    "    t = widgets.HTML(value=f\"<b>{correct}</b> answer: <b>{genre}</b>, your answer: <b>{r.value}</b>\")\n",
    "    display(t)"
   ]
  },
  {
   "cell_type": "code",
   "execution_count": null,
   "metadata": {},
   "outputs": [],
   "source": []
  }
 ],
 "metadata": {
  "kernelspec": {
   "display_name": "projectname",
   "language": "python",
   "name": "projectname"
  },
  "language_info": {
   "codemirror_mode": {
    "name": "ipython",
    "version": 3
   },
   "file_extension": ".py",
   "mimetype": "text/x-python",
   "name": "python",
   "nbconvert_exporter": "python",
   "pygments_lexer": "ipython3",
   "version": "3.6.5"
  }
 },
 "nbformat": 4,
 "nbformat_minor": 2
}
